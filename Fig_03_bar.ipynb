{
 "cells": [
  {
   "cell_type": "code",
   "execution_count": 24,
   "id": "22b8624d-d00e-49f1-bf3c-99971c934695",
   "metadata": {},
   "outputs": [
    {
     "name": "stdout",
     "output_type": "stream",
     "text": [
      "Go to directory: /Users/yunjunz/Papers/2023-Yang-Tropo/notebooks/pic\n"
     ]
    }
   ],
   "source": [
    "%matplotlib inline\n",
    "import os\n",
    "import sys\n",
    "import numpy as np\n",
    "from matplotlib import pyplot as plt, ticker\n",
    "plt.rcParams.update({'font.size': 12})\n",
    "\n",
    "work_dir = os.path.expanduser('~/Papers/2023-Yang-Tropo/notebooks/pic')\n",
    "os.chdir(work_dir)\n",
    "print('Go to directory:', work_dir)"
   ]
  },
  {
   "cell_type": "code",
   "execution_count": 55,
   "id": "34b50a07-8396-4eb3-9a6f-adf7167d8129",
   "metadata": {},
   "outputs": [
    {
     "name": "stdout",
     "output_type": "stream",
     "text": [
      "save figure to file /Users/yunjunz/Papers/2023-Yang-Tropo/notebooks/pic/corr_diff.pdf\n"
     ]
    },
    {
     "data": {
      "image/png": "[encoded data removed]",
      "text/plain": [
       "<Figure size 200x300 with 1 Axes>"
      ]
     },
     "metadata": {},
     "output_type": "display_data"
    }
   ],
   "source": [
    "fig, ax = plt.subplots(figsize=[2, 3])\n",
    "domains = ('Texture', 'Space')\n",
    "y_pos = np.arange(len(domains))\n",
    "trop = [0.165, 0.476]\n",
    "defo = [0.012, 0.468]\n",
    "ax.barh(y_pos, trop, label='tropo', edgecolor='w', lw=0.1, color='k')\n",
    "ax.barh(y_pos, defo, label='defo',  edgecolor='w', lw=0.1, color='gainsboro')\n",
    "\n",
    "# axis format\n",
    "ax.tick_params(which='both', direction='in', labelsize=12, bottom=True, top=True, left=True, right=False)\n",
    "ax.set_yticks(y_pos, labels=domains, rotation=90, va='center')\n",
    "ax.set_xlabel('Correlation')\n",
    "ax.xaxis.set_minor_locator(ticker.AutoMinorLocator())\n",
    "ax.legend(loc='lower right', handlelength=1.5, frameon=False, markerfirst=False, borderpad=0)\n",
    "\n",
    "# output\n",
    "out_fig = os.path.abspath('corr_diff.pdf')\n",
    "plt.savefig(out_fig, bbox_inches='tight', transparent=True, dpi=600)\n",
    "print('save figure to file', out_fig)\n",
    "plt.show()"
   ]
  },
  {
   "cell_type": "raw",
   "id": "22627a33-9853-4fa9-aec9-f50c088981d7",
   "metadata": {},
   "source": []
  },
  {
   "cell_type": "raw",
   "id": "50313062-fed1-4bbf-8d70-2bcd64809379",
   "metadata": {},
   "source": []
  }
 ],
 "metadata": {
  "kernelspec": {
   "display_name": "Python 3 (ipykernel)",
   "language": "python",
   "name": "python3"
  },
  "language_info": {
   "codemirror_mode": {
    "name": "ipython",
    "version": 3
   },
   "file_extension": ".py",
   "mimetype": "text/x-python",
   "name": "python",
   "nbconvert_exporter": "python",
   "pygments_lexer": "ipython3",
   "version": "3.10.10"
  }
 },
 "nbformat": 4,
 "nbformat_minor": 5
}
